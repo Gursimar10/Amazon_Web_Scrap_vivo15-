{
  "nbformat": 4,
  "nbformat_minor": 0,
  "metadata": {
    "colab": {
      "name": "Amazon_asus_laptop_review.ipynb",
      "provenance": [],
      "collapsed_sections": []
    },
    "kernelspec": {
      "name": "python3",
      "display_name": "Python 3"
    },
    "language_info": {
      "name": "python"
    }
  },
  "cells": [
    {
      "cell_type": "code",
      "execution_count": 1,
      "metadata": {
        "id": "InDW7QW2dKSm"
      },
      "outputs": [],
      "source": [
        "import requests\n",
        "from bs4 import BeautifulSoup as bs\n",
        "import re\n",
        "import pandas as pd\n",
        "import numpy as np "
      ]
    },
    {
      "cell_type": "markdown",
      "source": [
        "# SCRAPPING"
      ],
      "metadata": {
        "id": "440uySalIHzn"
      }
    },
    {
      "cell_type": "code",
      "source": [
        "base_url = 'https://www.amazon.in/'\n",
        "current = 'https://www.amazon.in/ASUS-15-6-inch-Integrated-Transparent-X515MA-BR011W/product-reviews/B09SGGB687/ref=cm_cr_dp_d_show_all_btm?ie=UTF8&reviewerType=all_reviews'\n",
        "\n",
        "title=[]\n",
        "rating=[]\n",
        "name=[]\n",
        "review=[]\n",
        "response = requests.get(current)\n",
        "i=2\n",
        "while response.status_code==200 and i<37:\n",
        "  page = bs(response.text,'html.parser')\n",
        "  data = page.find_all('div',{'data-hook':'review'})\n",
        "\n",
        "  for item in data:\n",
        "    title.append(item.find('a',{'data-hook':'review-title'}).text.strip())\n",
        "    stars=item.find(class_='a-icon-alt').text\n",
        "    stars = int(float(re.search('[\\d.]+',stars).group()))\n",
        "    rating.append(stars)\n",
        "    name.append(item.find(class_='a-profile-name').text)\n",
        "    review.append(item.find(class_='review-text-content').text)\n",
        "\n",
        "  next_page_url = ('https://www.amazon.in//ASUS-15-6-inch-Integrated-Transparent-X515MA-BR011W/product-reviews/B09SGGB687?pageNumber='+str(i)+'&reviewerType=all_reviews')\n",
        "  current=next_page_url\n",
        "  i=i+1\n",
        "  response = requests.get(current)\n",
        "  while response.status_code != 200:\n",
        "        response = requests.get(current)"
      ],
      "metadata": {
        "id": "0vZk_GHGuRXG"
      },
      "execution_count": 5,
      "outputs": []
    },
    {
      "cell_type": "code",
      "source": [
        "df = pd.DataFrame()"
      ],
      "metadata": {
        "id": "Yi-4yYuLbGd4"
      },
      "execution_count": 6,
      "outputs": []
    },
    {
      "cell_type": "code",
      "source": [
        "df['User'] = name\n",
        "df['Title Review']=title\n",
        "df['Rating']=rating\n",
        "df['Review']=review"
      ],
      "metadata": {
        "id": "9A83zF0kcGBV"
      },
      "execution_count": 7,
      "outputs": []
    },
    {
      "cell_type": "code",
      "source": [
        "df.to_csv('ASUS VivoBook 15.csv',index=False)"
      ],
      "metadata": {
        "id": "1pnvzcku0IRU"
      },
      "execution_count": 10,
      "outputs": []
    },
    {
      "cell_type": "code",
      "source": [
        "df = pd.read_csv('/content/ASUS VivoBook 15.csv')"
      ],
      "metadata": {
        "id": "mI8UEW1GIOsJ"
      },
      "execution_count": 108,
      "outputs": []
    },
    {
      "cell_type": "markdown",
      "source": [
        "#CLEANING"
      ],
      "metadata": {
        "id": "mMNARvD0e37M"
      }
    },
    {
      "cell_type": "code",
      "source": [
        "df=df.dropna()"
      ],
      "metadata": {
        "id": "AXF2ypg9LdAM"
      },
      "execution_count": 127,
      "outputs": []
    },
    {
      "cell_type": "code",
      "source": [
        "customer_reviews=[]\n",
        "i = 0\n",
        "index=[]\n",
        "for txt in df['Review']:\n",
        "  line = txt.replace('\\n','')\n",
        "  line = line.replace('The media could not be loaded.','')\n",
        "  line = re.sub(' +', ' ', line)\n",
        "  line = str(line)\n",
        "  line = line.lstrip(' ')\n",
        "  if len(line) != 0:\n",
        "    customer_reviews.append((line))\n",
        "    index.append(i)\n",
        "  i+=1"
      ],
      "metadata": {
        "id": "sktenlIXNkvZ"
      },
      "execution_count": 128,
      "outputs": []
    },
    {
      "cell_type": "code",
      "source": [
        "clean_df = df.iloc[index,:]\n",
        "clean_df"
      ],
      "metadata": {
        "id": "Qy4GLlGyxj9l"
      },
      "execution_count": null,
      "outputs": []
    },
    {
      "cell_type": "code",
      "source": [
        "clean_df['Review']=customer_reviews"
      ],
      "metadata": {
        "id": "22NOD2OuycTo"
      },
      "execution_count": null,
      "outputs": []
    },
    {
      "cell_type": "code",
      "source": [
        "clean_df"
      ],
      "metadata": {
        "colab": {
          "base_uri": "https://localhost:8080/",
          "height": 424
        },
        "id": "_eFD18TFzGgK",
        "outputId": "975b44d9-cb6e-44b4-dfff-4c627d436cc6"
      },
      "execution_count": 137,
      "outputs": [
        {
          "output_type": "execute_result",
          "data": {
            "text/plain": [
              "                User                                       Title Review  \\\n",
              "0       Moumita Paul                      Very good laptoo at 24k price   \n",
              "1              Kesav                                      Budget laptop   \n",
              "2         Anoopsingh                                Overall a good deal   \n",
              "3           Madhu R.  Lies of Amazon Prime Day sale. Fooling custome...   \n",
              "4      Golden Bieber  Highly recommended laptop for those  whose bud...   \n",
              "..               ...                                                ...   \n",
              "344    Sandip Khanal                                It's good under 25k   \n",
              "345           Chirag                   Front camera cleartiy is so poor   \n",
              "346     Swapnil vyas                                               GOOD   \n",
              "347    Vinod Chouhan                           Best in this prize range   \n",
              "349  Amazon Customer                        ' After Sale Service Genius   \n",
              "\n",
              "     Rating                                             Review  \n",
              "0         5  This is such a premium looking laptop at this ...  \n",
              "1         4  Thin and light but delicate too. Bought it for...  \n",
              "2         5  I am using this laptop for a week and feeling ...  \n",
              "3         1  The MRP shown was around Rs. 45,000/-, as per ...  \n",
              "4         5   I received this laptop 💻 two days ago.I like ...  \n",
              "..      ...                                                ...  \n",
              "344       4            I love this laptop in this budget 25K🔥💰  \n",
              "345       4         Good product but camera quality is so poor  \n",
              "346       5                   Good laptop for this price range  \n",
              "347       5                                            Nothing  \n",
              "349       2  To be exact DON'T BUY, after sale service is f...  \n",
              "\n",
              "[332 rows x 4 columns]"
            ],
            "text/html": [
              "\n",
              "  <div id=\"df-cb25e902-6178-4ded-9a1b-d1bd7383875e\">\n",
              "    <div class=\"colab-df-container\">\n",
              "      <div>\n",
              "<style scoped>\n",
              "    .dataframe tbody tr th:only-of-type {\n",
              "        vertical-align: middle;\n",
              "    }\n",
              "\n",
              "    .dataframe tbody tr th {\n",
              "        vertical-align: top;\n",
              "    }\n",
              "\n",
              "    .dataframe thead th {\n",
              "        text-align: right;\n",
              "    }\n",
              "</style>\n",
              "<table border=\"1\" class=\"dataframe\">\n",
              "  <thead>\n",
              "    <tr style=\"text-align: right;\">\n",
              "      <th></th>\n",
              "      <th>User</th>\n",
              "      <th>Title Review</th>\n",
              "      <th>Rating</th>\n",
              "      <th>Review</th>\n",
              "    </tr>\n",
              "  </thead>\n",
              "  <tbody>\n",
              "    <tr>\n",
              "      <th>0</th>\n",
              "      <td>Moumita Paul</td>\n",
              "      <td>Very good laptoo at 24k price</td>\n",
              "      <td>5</td>\n",
              "      <td>This is such a premium looking laptop at this ...</td>\n",
              "    </tr>\n",
              "    <tr>\n",
              "      <th>1</th>\n",
              "      <td>Kesav</td>\n",
              "      <td>Budget laptop</td>\n",
              "      <td>4</td>\n",
              "      <td>Thin and light but delicate too. Bought it for...</td>\n",
              "    </tr>\n",
              "    <tr>\n",
              "      <th>2</th>\n",
              "      <td>Anoopsingh</td>\n",
              "      <td>Overall a good deal</td>\n",
              "      <td>5</td>\n",
              "      <td>I am using this laptop for a week and feeling ...</td>\n",
              "    </tr>\n",
              "    <tr>\n",
              "      <th>3</th>\n",
              "      <td>Madhu R.</td>\n",
              "      <td>Lies of Amazon Prime Day sale. Fooling custome...</td>\n",
              "      <td>1</td>\n",
              "      <td>The MRP shown was around Rs. 45,000/-, as per ...</td>\n",
              "    </tr>\n",
              "    <tr>\n",
              "      <th>4</th>\n",
              "      <td>Golden Bieber</td>\n",
              "      <td>Highly recommended laptop for those  whose bud...</td>\n",
              "      <td>5</td>\n",
              "      <td>I received this laptop 💻 two days ago.I like ...</td>\n",
              "    </tr>\n",
              "    <tr>\n",
              "      <th>...</th>\n",
              "      <td>...</td>\n",
              "      <td>...</td>\n",
              "      <td>...</td>\n",
              "      <td>...</td>\n",
              "    </tr>\n",
              "    <tr>\n",
              "      <th>344</th>\n",
              "      <td>Sandip Khanal</td>\n",
              "      <td>It's good under 25k</td>\n",
              "      <td>4</td>\n",
              "      <td>I love this laptop in this budget 25K🔥💰</td>\n",
              "    </tr>\n",
              "    <tr>\n",
              "      <th>345</th>\n",
              "      <td>Chirag</td>\n",
              "      <td>Front camera cleartiy is so poor</td>\n",
              "      <td>4</td>\n",
              "      <td>Good product but camera quality is so poor</td>\n",
              "    </tr>\n",
              "    <tr>\n",
              "      <th>346</th>\n",
              "      <td>Swapnil vyas</td>\n",
              "      <td>GOOD</td>\n",
              "      <td>5</td>\n",
              "      <td>Good laptop for this price range</td>\n",
              "    </tr>\n",
              "    <tr>\n",
              "      <th>347</th>\n",
              "      <td>Vinod Chouhan</td>\n",
              "      <td>Best in this prize range</td>\n",
              "      <td>5</td>\n",
              "      <td>Nothing</td>\n",
              "    </tr>\n",
              "    <tr>\n",
              "      <th>349</th>\n",
              "      <td>Amazon Customer</td>\n",
              "      <td>' After Sale Service Genius</td>\n",
              "      <td>2</td>\n",
              "      <td>To be exact DON'T BUY, after sale service is f...</td>\n",
              "    </tr>\n",
              "  </tbody>\n",
              "</table>\n",
              "<p>332 rows × 4 columns</p>\n",
              "</div>\n",
              "      <button class=\"colab-df-convert\" onclick=\"convertToInteractive('df-cb25e902-6178-4ded-9a1b-d1bd7383875e')\"\n",
              "              title=\"Convert this dataframe to an interactive table.\"\n",
              "              style=\"display:none;\">\n",
              "        \n",
              "  <svg xmlns=\"http://www.w3.org/2000/svg\" height=\"24px\"viewBox=\"0 0 24 24\"\n",
              "       width=\"24px\">\n",
              "    <path d=\"M0 0h24v24H0V0z\" fill=\"none\"/>\n",
              "    <path d=\"M18.56 5.44l.94 2.06.94-2.06 2.06-.94-2.06-.94-.94-2.06-.94 2.06-2.06.94zm-11 1L8.5 8.5l.94-2.06 2.06-.94-2.06-.94L8.5 2.5l-.94 2.06-2.06.94zm10 10l.94 2.06.94-2.06 2.06-.94-2.06-.94-.94-2.06-.94 2.06-2.06.94z\"/><path d=\"M17.41 7.96l-1.37-1.37c-.4-.4-.92-.59-1.43-.59-.52 0-1.04.2-1.43.59L10.3 9.45l-7.72 7.72c-.78.78-.78 2.05 0 2.83L4 21.41c.39.39.9.59 1.41.59.51 0 1.02-.2 1.41-.59l7.78-7.78 2.81-2.81c.8-.78.8-2.07 0-2.86zM5.41 20L4 18.59l7.72-7.72 1.47 1.35L5.41 20z\"/>\n",
              "  </svg>\n",
              "      </button>\n",
              "      \n",
              "  <style>\n",
              "    .colab-df-container {\n",
              "      display:flex;\n",
              "      flex-wrap:wrap;\n",
              "      gap: 12px;\n",
              "    }\n",
              "\n",
              "    .colab-df-convert {\n",
              "      background-color: #E8F0FE;\n",
              "      border: none;\n",
              "      border-radius: 50%;\n",
              "      cursor: pointer;\n",
              "      display: none;\n",
              "      fill: #1967D2;\n",
              "      height: 32px;\n",
              "      padding: 0 0 0 0;\n",
              "      width: 32px;\n",
              "    }\n",
              "\n",
              "    .colab-df-convert:hover {\n",
              "      background-color: #E2EBFA;\n",
              "      box-shadow: 0px 1px 2px rgba(60, 64, 67, 0.3), 0px 1px 3px 1px rgba(60, 64, 67, 0.15);\n",
              "      fill: #174EA6;\n",
              "    }\n",
              "\n",
              "    [theme=dark] .colab-df-convert {\n",
              "      background-color: #3B4455;\n",
              "      fill: #D2E3FC;\n",
              "    }\n",
              "\n",
              "    [theme=dark] .colab-df-convert:hover {\n",
              "      background-color: #434B5C;\n",
              "      box-shadow: 0px 1px 3px 1px rgba(0, 0, 0, 0.15);\n",
              "      filter: drop-shadow(0px 1px 2px rgba(0, 0, 0, 0.3));\n",
              "      fill: #FFFFFF;\n",
              "    }\n",
              "  </style>\n",
              "\n",
              "      <script>\n",
              "        const buttonEl =\n",
              "          document.querySelector('#df-cb25e902-6178-4ded-9a1b-d1bd7383875e button.colab-df-convert');\n",
              "        buttonEl.style.display =\n",
              "          google.colab.kernel.accessAllowed ? 'block' : 'none';\n",
              "\n",
              "        async function convertToInteractive(key) {\n",
              "          const element = document.querySelector('#df-cb25e902-6178-4ded-9a1b-d1bd7383875e');\n",
              "          const dataTable =\n",
              "            await google.colab.kernel.invokeFunction('convertToInteractive',\n",
              "                                                     [key], {});\n",
              "          if (!dataTable) return;\n",
              "\n",
              "          const docLinkHtml = 'Like what you see? Visit the ' +\n",
              "            '<a target=\"_blank\" href=https://colab.research.google.com/notebooks/data_table.ipynb>data table notebook</a>'\n",
              "            + ' to learn more about interactive tables.';\n",
              "          element.innerHTML = '';\n",
              "          dataTable['output_type'] = 'display_data';\n",
              "          await google.colab.output.renderOutput(dataTable, element);\n",
              "          const docLink = document.createElement('div');\n",
              "          docLink.innerHTML = docLinkHtml;\n",
              "          element.appendChild(docLink);\n",
              "        }\n",
              "      </script>\n",
              "    </div>\n",
              "  </div>\n",
              "  "
            ]
          },
          "metadata": {},
          "execution_count": 137
        }
      ]
    },
    {
      "cell_type": "code",
      "source": [
        "clean_df.to_csv('clean_scrap_vivo15.csv',index=False)"
      ],
      "metadata": {
        "id": "F6yf1fUE0GGg"
      },
      "execution_count": 138,
      "outputs": []
    }
  ]
}